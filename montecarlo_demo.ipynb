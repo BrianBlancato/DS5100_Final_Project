{
 "cells": [
  {
   "cell_type": "markdown",
   "id": "45762487-d33f-486d-8e38-2cdea04e3528",
   "metadata": {},
   "source": [
    "# Metadata\n",
    "\n",
    "* Title: **Final Project Report**\n",
    "* Class: DS 5100\n",
    "* Date: 05/02/2023\n",
    "* Student Name: Brian Blancato\n",
    "* Student Net ID: bab3fq\n",
    "* This URL: https://github.com/BrianBlancato/DS5100_Final_Project/blob/main/montecarlo_demo.ipynb\n",
    "* GitHub Repo URL: https://github.com/BrianBlancato/DS5100_Final_Project"
   ]
  },
  {
   "cell_type": "markdown",
   "id": "d32cb273-9a40-4909-a7ce-51f6e4958d3c",
   "metadata": {},
   "source": [
    "# The Monte Carlo Module"
   ]
  },
  {
   "cell_type": "code",
   "execution_count": 1,
   "id": "a0743efc-a785-4b5c-a9e6-b65d4507a67f",
   "metadata": {},
   "outputs": [],
   "source": [
    "import pandas as pd\n",
    "import random\n",
    "from typing import List\n",
    "\n",
    "\n",
    "class Die:\n",
    "    \"\"\"\n",
    "    This class creates a 'die', which is any discrete random variable\n",
    "    associated with a stochastic process, such as using a deck of cards \n",
    "    or flipping a coin or speaking a language.  A die has N sides, or \"faces\"\n",
    "    and W weights and can be rolled to select a face.\n",
    "\n",
    "    ATTRIBUTES\n",
    "    __die_df    a private dataframe with columns for face and weight of the die.\n",
    "    face_type   dtype of the faces in the die.\n",
    "\n",
    "    METHODS\n",
    "    __init__        Initializes a Die object with the given array of faces.\n",
    "    change_weight   Changes the weight of the specified face to a new weight.\n",
    "    roll            Simulates rolling the die for a given number of times.\n",
    "    show            Returns the dataframe created in the initializer.\n",
    "    \"\"\"\n",
    "    def __init__(self, faces):\n",
    "        \"\"\"\n",
    "        DESCRIPTION\n",
    "            The initializer takes an array of faces as an argument and \n",
    "            internally initializes the weights to 1.0 for each face. The faces and \n",
    "            weights are stored in a private dataframe that is shared by the \n",
    "            other methods in the Die class.\n",
    "        \n",
    "        INPUTS\n",
    "        faces   an array of strings or numbers.\n",
    "\n",
    "        RETURNS\n",
    "        None\n",
    "        \"\"\"\n",
    "        self.__die_df = pd.DataFrame({'face': faces, 'weight': [1.0] * len(faces)})\n",
    "        self.face_type = self.__die_df['face'].dtype\n",
    "    \n",
    "    def change_weight(self, face, new_weight):\n",
    "        \"\"\"\n",
    "        DESCRIPTION\n",
    "            A method to change the weight of a specified face. Takes two arguments, \n",
    "            the face and the new weight. Also checks if the face and weight passed\n",
    "            are valid.\n",
    "        \n",
    "        INPUTS\n",
    "        face        a string or number that is a valid face for the Die.\n",
    "        new_weight  a number that can be converted to a floating point.\n",
    "\n",
    "        RETURNS\n",
    "        None\n",
    "        \"\"\"\n",
    "        #Checks if the given face is in the Die. Raises an error if not\n",
    "        if not (self.__die_df['face'] == face).any():\n",
    "            raise ValueError('Invalid Face')\n",
    "        #Converts the given weight to float, raises error if it can't\n",
    "        try:\n",
    "            new_weight = float(new_weight)\n",
    "        except ValueError:\n",
    "            raise ValueError('Invalid Weight')\n",
    "        self.__die_df.loc[self.__die_df['face'] == face, 'weight'] = new_weight\n",
    "\n",
    "    def roll(self, roll_count=1):\n",
    "        \"\"\"\n",
    "        DESCRIPTION\n",
    "            A method to roll the die one or more times. Takes a parameter of how many\n",
    "            times the die is to be rolled; defaults to 1. The roll is a random sample\n",
    "            from the vector of faces according to the weights. Returns a list of outcomes\n",
    "            that are not stored internally.\n",
    "        \n",
    "        INPUTS\n",
    "        roll_count  int for the amount of rolls. Defaults to 1.\n",
    "\n",
    "        RETURNS\n",
    "        roll_results    a list of faces randomly selected according to weight.\n",
    "        \"\"\"\n",
    "        #Temporary list for results\n",
    "        roll_results = []\n",
    "        #Randomly selects a face according to weight for amount of rolls, adds face to list that is returned\n",
    "        for i in range(roll_count):\n",
    "            selected_face = random.choices(self.__die_df['face'], weights=self.__die_df['weight'])[0]\n",
    "            roll_results.append(selected_face)\n",
    "        return roll_results\n",
    "        \n",
    "    def show(self):\n",
    "        \"\"\"\n",
    "        DESCRIPTION\n",
    "            A method to show the user the die's current set of faces and weights\n",
    "        \n",
    "        INPUT\n",
    "        None\n",
    "\n",
    "        RETURNS\n",
    "        __die_df    private dataframe with columns face and weight\n",
    "        \"\"\"\n",
    "        return self.__die_df\n",
    "    \n",
    "class Game:\n",
    "    \"\"\"\n",
    "    Creates a Game object which consists of rolling one or more dice of similarly defined\n",
    "    dice (Die Objects). A Game is initiated by passing a list of dice.\n",
    "    A Game that is played will roll all dice and the results will be saved for \n",
    "    the most recent play.\n",
    "\n",
    "    ATTRIBUTES\n",
    "    dice        list of similarly defined Die objects\n",
    "    __results   private dataframe of roll results for the most recent play\n",
    "\n",
    "    METHODS\n",
    "    __init__    Initializes a Game object from a list of Die objects passed\n",
    "    play        Rolls the dice in the Game for a specified amount of times\n",
    "    show        returns a wide or narrow view of the Game results\n",
    "    \"\"\"\n",
    "    def __init__(self, dice:List[Die]):\n",
    "        \"\"\"\n",
    "        DESCRIPTION\n",
    "            Initializes the Game object. Takes a list of already initiated similar\n",
    "            Die objects. Similar Die objects have the same number of sides and associated faces.\n",
    "            The Die Objects may have its own weights.\n",
    "        \n",
    "        INPUTS\n",
    "        dice    a list of initiated similar Die objects\n",
    "\n",
    "        RETURNS\n",
    "        None\n",
    "        \"\"\"\n",
    "        self.dice = dice\n",
    "        self.__results = None\n",
    "\n",
    "    def play(self, rolls):\n",
    "        \"\"\"\n",
    "        DESCRIPTION\n",
    "            A method to roll the dice in the Game object a specified number of times.\n",
    "            All dice will be rolled and the results will be saved in a private dataframe \n",
    "            of shape N rolls by M dice.\n",
    "        \n",
    "        INPUTS\n",
    "        rolls   ints to specify how many times the dice should be rolled\n",
    "\n",
    "        RETURNS\n",
    "        None\n",
    "        \"\"\"\n",
    "        #Creates private dataframe of shape N rolls by M dice\n",
    "        self.__results = pd.DataFrame(index=range(1, rolls+1), columns=range(1, len(self.dice)+1))\n",
    "        #Rolls each dice in the Game and saves result in private dataframe\n",
    "        for i, die in enumerate(self.dice):\n",
    "            self.__results.iloc[:, i] = die.roll(rolls)\n",
    "        \n",
    "    def show(self, form: str = \"wide\"):\n",
    "        \"\"\"\n",
    "        DESCRIPTION\n",
    "            A method to show the user the results of the most recent play.  There are two\n",
    "            options, wide and narrow, which is used as the single parameter.  The wide form\n",
    "            returns a dataframe with a single column index with the roll number and each die\n",
    "            as a column.  The narrow form returns a dataframe with a two-column index with\n",
    "            the roll number & the die number and a column for the face rolled.\n",
    "            The string argument is defaulted to wide. An invalid argument will raise an exception.\n",
    "        \n",
    "        INPUTS\n",
    "        form    a string of \"wide\" or \"narrow\"\n",
    "\n",
    "        RETURNS\n",
    "        A dataframe of results with a shape depending on the argument.\n",
    "        \"\"\"\n",
    "        if form ==\"wide\":\n",
    "            return self.__results\n",
    "        elif form == \"narrow\":\n",
    "            return self.__results.unstack().to_frame()\n",
    "        #Raises exception if form is not \"wide\" or \"narrow\"\n",
    "        else:\n",
    "            raise ValueError(\"Invalid option for 'form'. Please choose either 'wide' or 'narrow'.\")      \n",
    "\n",
    "\n",
    "class Analyzer:\n",
    "    \"\"\"\n",
    "    Creates an Analyzer object from a Game object. An analyzer takes the results of a single\n",
    "    game and computes various descriptive statistical properties about it.  These properties\n",
    "    results are available as attributes of an Analyzer object.\n",
    "\n",
    "    ATTRIBUTES\n",
    "    __data           dataframe of Game results in wide form\n",
    "    face_dtype       Data type for the faces of the Die object in the Game object.\n",
    "    jackpot_count    int representing the count of jackpot rolls during the game.\n",
    "    jackpot_data     dataframe of jackpot rolls, index is roll number, columns for each Dice.\n",
    "    face_counts      dataframe with the number of times a face appeared each roll.\n",
    "    combos           dataframe of distinct combinations of faces rolled with their counts.\n",
    "\n",
    "    METHODS\n",
    "    __init__                Initializes an Analyzer object from a Game object argument.\n",
    "    jackpot                 Computes how many times the game resulted in all faces being identical.\n",
    "    combo                   Computes the distinct combinations of faces rolled, along with their counts.\n",
    "    face_counts_per_roll    Computes how many times a given face is rolled in each event\n",
    "    \"\"\"\n",
    "    def __init__(self, game):\n",
    "        \"\"\"\n",
    "        DESCRIPTION\n",
    "            Initializes an Analyzer object from a single Game object analyzer.\n",
    "            The Game object should be initiated.\n",
    "        \n",
    "        INPUTS\n",
    "        game    Initiated Game object\n",
    "\n",
    "        RETURNS\n",
    "        None\n",
    "        \"\"\"\n",
    "        self.__data = game.show('wide')\n",
    "        self.face_dtype = game.dice[0].face_type\n",
    "        self.jackpot_count = int\n",
    "        self.jackpot_data = None\n",
    "        self.combos = None\n",
    "        self.face_counts = None\n",
    "    \n",
    "    def jackpot(self):\n",
    "        \"\"\"\n",
    "        DESCRIPTION\n",
    "            A method to compute how many times the game resulted in all faces being\n",
    "            identical. Returns an integer for the number the number of times a jackpot\n",
    "            occurred. Saves a public dataframe of jackpot results with the roll number\n",
    "            as a named index.\n",
    "        \n",
    "        INPUTS\n",
    "        None\n",
    "\n",
    "        RETURNS\n",
    "        jackpot_count   int, number of times a jackpot occurred in the Game\n",
    "        \"\"\"\n",
    "        #Only saves jackpot rolls from the Game results in a new dataframe, jackpot_data\n",
    "        self.jackpot_data = self.__data[self.__data.apply(lambda row: row.nunique() == 1, axis = 1)]\n",
    "        #Sets jackpot_data index to the roll number of the jackpot\n",
    "        self.jackpot_data.index = self.__data[self.__data.apply(lambda row: row.nunique() == 1, axis = 1)].index\n",
    "        #Computes jackpot_count by checking how many rows are in jackpot_data\n",
    "        self.jackpot_count = self.jackpot_data.shape[0]\n",
    "        return self.jackpot_count\n",
    "        \n",
    "    def combo(self):\n",
    "        \"\"\"\n",
    "        DESCRIPTION\n",
    "            A method to compute the distinct combinations of faces rolled, along with\n",
    "            their counts.  The combinations are stored in a sorted public dataframe that\n",
    "            is multi-columned indexed and a column for their count.  This method has no\n",
    "            inputs or returns.  The combo dataframe is a public attribute of the analyzer\n",
    "            object that is named \"combos\"\n",
    "        \n",
    "        INPUTS\n",
    "        None\n",
    "\n",
    "        RETURNS\n",
    "        None\n",
    "        \"\"\"\n",
    "        #creates new df by grouping the rows of Game Results by list of dice and calculates their count\n",
    "        self.combos = self.__data.groupby(list(self.__data.columns)).size().rename('count')\n",
    "        #sets the index of combos to a multi-index based on the list of dice\n",
    "        self.combos = self.combos.reset_index().set_index(list(self.__data.columns))\n",
    "    \n",
    "    def face_counts_per_roll(self):\n",
    "        \"\"\"\n",
    "        DESCRIPTION\n",
    "            A method to compute how many times a given face is rolled in each event.\n",
    "            The results are saved in a public attribute dataframe called face_counts.\n",
    "            The dataframe has an index of the roll number and face values as columns.\n",
    "            The columns will have the amount of times that face appeared for the \n",
    "            corresponding roll number. The method does not have inputs or return anything\n",
    "\n",
    "        INPUTS\n",
    "        None\n",
    "\n",
    "        RETURNS\n",
    "        None\n",
    "        \"\"\"\n",
    "        #Looks at every row of Game results, capturing the count of unique values and saving to new dataframe\n",
    "        self.face_counts = self.__data.apply(lambda row: row.value_counts(), axis=1, result_type='expand').fillna(0)\n",
    "        #converts the values from float to int\n",
    "        self.face_counts = self.face_counts.astype(int)"
   ]
  },
  {
   "cell_type": "markdown",
   "id": "4c81c4f0-b6ff-46ab-ba2c-9de7f0179715",
   "metadata": {},
   "source": [
    "# Test Module"
   ]
  },
  {
   "cell_type": "code",
   "execution_count": 2,
   "id": "0bd69295",
   "metadata": {},
   "outputs": [
    {
     "name": "stdout",
     "output_type": "stream",
     "text": [
      "Welcome to the Monte Carlo Simulator\n"
     ]
    }
   ],
   "source": [
    "import unittest\n",
    "import pandas as pd\n",
    "from montecarlosimulator import Die, Game, Analyzer\n",
    "\n",
    "class TestDie(unittest.TestCase):\n",
    "    def setUp(self):\n",
    "        faces = [1, 2, 3, 4, 5, 6]\n",
    "        self.die = Die(faces)\n",
    "\n",
    "    def test_change_weight(self):\n",
    "        self.die.change_weight(3, 3)\n",
    "        weight_for_face3 = self.die.show().loc[self.die.show()['face'] == 3, 'weight'].values[0]\n",
    "        #Tests if the weight for 3 was changed to 3\n",
    "        self.assertEqual(weight_for_face3, 3.0)\n",
    "        #Tests for an invalid face\n",
    "        with self.assertRaises(ValueError):\n",
    "            self.die.change_weight('A', 4)\n",
    "        #Tests for an invalid weight\n",
    "        with self.assertRaises(ValueError):\n",
    "            self.die.change_weight(2, 'elephant')\n",
    "\n",
    "    def test_roll(self):\n",
    "        rolled_faces = self.die.roll(10)\n",
    "        valid_faces = self.die.show()['face'].values\n",
    "        #Tests if roll results are face values\n",
    "        for roll in rolled_faces:\n",
    "            self.assertIn(roll, valid_faces)\n",
    "\n",
    "    def test_show(self):\n",
    "        #Tests if show returns a dataframe\n",
    "        self.assertIsInstance(self.die.show(), pd.DataFrame)\n",
    "\n",
    "\n",
    "class TestGame(unittest.TestCase):\n",
    "    def setUp(self):\n",
    "        faces1 = [1, 2, 3, 4, 5, 6]\n",
    "        self.test_die = Die(faces1)\n",
    "        self.game = Game([self.test_die, self.test_die, self.test_die])\n",
    "    \n",
    "    def test_play(self):\n",
    "        self.game.play(25)\n",
    "        results = self.game.show('wide')\n",
    "        #Tests if play populated game reults private dataframe dataframe\n",
    "        self.assertIsInstance(results, pd.DataFrame)\n",
    "        #Tests if game results dataframe was 25 rows (rolls) and 3 columns (dice)\n",
    "        self.assertEqual(results.shape, (25, 3))\n",
    "        #Tests if game results has the roll number as index\n",
    "        self.assertEqual(list(results.index), list(range(1,26)))\n",
    "        #Tests if game results has colums for dice\n",
    "        self.assertEqual(list(results.columns), [1, 2, 3])\n",
    "        #Tests if game results was populated with valid faces\n",
    "        for i in range(1, 26):\n",
    "            for j in [1, 2, 3]:\n",
    "                self.assertIn(results.loc[i,j], [1, 2, 3, 4, 5, 6])\n",
    "\n",
    "    def test_show(self):\n",
    "        self.game.play(10)\n",
    "        #Tests the exception by passing an invalid argument\n",
    "        with self.assertRaises(ValueError):\n",
    "            self.game.show(form=\"invalid\")\n",
    "        #Tests if show returns a dataframe without an argument\n",
    "        self.assertIsInstance(self.game.show(), pd.DataFrame)\n",
    "        wide_results = self.game.show('wide')\n",
    "        #Tests wide format has correct amount of rows\n",
    "        self.assertEqual(len(wide_results.columns), 3)\n",
    "        expected_wide_index = [1, 2, 3, 4, 5, 6, 7, 8, 9, 10]\n",
    "        #Tests if wide index is equal to roll numbers\n",
    "        self.assertListEqual(wide_results.index.tolist(), expected_wide_index)\n",
    "        narrow_results = self.game.show('narrow')\n",
    "        #Tests narrow dataframe is multi-indexed\n",
    "        self.assertIsInstance(narrow_results.index, pd.MultiIndex)\n",
    "        #Tests narrow format has 1 column\n",
    "        self.assertEqual(len(narrow_results.columns), 1)\n",
    "\n",
    "    \n",
    "class TestAnalyzer(unittest.TestCase):\n",
    "    def setUp(self):\n",
    "        faces = [1, 2, 3, 4, 5, 6]\n",
    "        self.die = Die(faces)\n",
    "        self.game = Game([self.die, self.die])\n",
    "        self.game.play(10)\n",
    "        self.analyzer = Analyzer(self.game)\n",
    " \n",
    "    def test_jackpot(self):\n",
    "        #Tests jackpot returns an int\n",
    "        self.assertIsInstance(self.analyzer.jackpot(), int)\n",
    "        if self.analyzer.jackpot() != 0:\n",
    "            #Tests if a jackpot_data is a dataframe\n",
    "            self.assertIsInstance(self.analyzer.jackpot_data, pd.DataFrame)\n",
    "            #Tests that every row of jackpot_data are the same face value\n",
    "            self.assertTrue((self.analyzer.jackpot_data.nunique(axis=1) == 1).all())\n",
    "            #Tests that jackpot_data index is the correct roll number\n",
    "            for idx in self.analyzer.jackpot_data.index:\n",
    "                self.assertTrue(self.game.show().loc[idx].equals(self.analyzer.jackpot_data.loc[idx]))\n",
    "\n",
    "    def test_combo(self):\n",
    "        self.analyzer.combo()\n",
    "        #Tests that combo created a combos dataframe\n",
    "        self.assertIsInstance(self.analyzer.combos, pd.DataFrame)\n",
    "        #Tests that combos has a multi column index\n",
    "        self.assertIsInstance(self.analyzer.combos.index, pd.MultiIndex)\n",
    "        #Tests if the count of combinations is equal to the amount of rolls\n",
    "        self.assertEqual(self.analyzer.combos['count'].sum(), 10)\n",
    "        \n",
    "    def test_face_counts_per_roll(self):\n",
    "        self.analyzer.face_counts_per_roll()\n",
    "        #Tests that face_count_per_roll created a face_counts dataframe\n",
    "        self.assertIsInstance(self.analyzer.face_counts, pd.DataFrame)\n",
    "        #Tests that face_counts has a row for each roll\n",
    "        self.assertEqual(len(self.analyzer.face_counts), 10)\n",
    "        #Tests that each row has values for each dice face result (2 dice rolled so each row sum should be 2)\n",
    "        self.assertTrue((self.analyzer.face_counts.sum(axis=1) == 2).all())\n",
    "\n",
    "\n",
    "#if __name__ == '__main__':\n",
    "    #unittest.main(verbosity=3)"
   ]
  },
  {
   "cell_type": "markdown",
   "id": "3c2b90b6-ac8b-43fa-a069-cb5b0b22aee0",
   "metadata": {},
   "source": [
    "# Test Results"
   ]
  },
  {
   "cell_type": "markdown",
   "id": "3249def6",
   "metadata": {},
   "source": [
    "test_combo (__main__.TestAnalyzer) ... d:\\ds5100\\ds5100_final_project\\montecarlosimulator\\montecarlo.py:148: DeprecationWarning: In a future version, `df.iloc[:, i] = newvals` will attempt to set the values inplace instead of always setting a new array. To retain the old behavior, use either `df[df.columns[i]] = newvals` or, if columns are non-unique, `df.isetitem(i, newvals)`\n",
    "  self.__results.iloc[:, i] = die.roll(rolls)\n",
    "ok\n",
    "test_face_counts_per_roll (__main__.TestAnalyzer) ... d:\\ds5100\\ds5100_final_project\\montecarlosimulator\\montecarlo.py:148: DeprecationWarning: In a future version, `df.iloc[:, i] = newvals` will attempt to set the values inplace instead of always setting a new array. To retain the old behavior, use either `df[df.columns[i]] = newvals` or, if columns are non-unique, `df.isetitem(i, newvals)`\n",
    "  self.__results.iloc[:, i] = die.roll(rolls)\n",
    "ok\n",
    "test_jackpot (__main__.TestAnalyzer) ... d:\\ds5100\\ds5100_final_project\\montecarlosimulator\\montecarlo.py:148: DeprecationWarning: In a future version, `df.iloc[:, i] = newvals` will attempt to set the values inplace instead of always setting a new array. To retain the old behavior, use either `df[df.columns[i]] = newvals` or, if columns are non-unique, `df.isetitem(i, newvals)`\n",
    "  self.__results.iloc[:, i] = die.roll(rolls)\n",
    "ok\n",
    "test_change_weight (__main__.TestDie) ... ok\n",
    "test_roll (__main__.TestDie) ... ok\n",
    "test_show (__main__.TestDie) ... ok\n",
    "test_play (__main__.TestGame) ... d:\\ds5100\\ds5100_final_project\\montecarlosimulator\\montecarlo.py:148: DeprecationWarning: In a future version, `df.iloc[:, i] = newvals` will attempt to set the values inplace instead of always setting a new array. To retain the old behavior, use either `df[df.columns[i]] = newvals` or, if columns are non-unique, `df.isetitem(i, newvals)`\n",
    "  self.__results.iloc[:, i] = die.roll(rolls)\n",
    "ok\n",
    "test_show (__main__.TestGame) ... d:\\ds5100\\ds5100_final_project\\montecarlosimulator\\montecarlo.py:148: DeprecationWarning: In a future version, `df.iloc[:, i] = newvals` will attempt to set the values inplace instead of always setting a new array. To retain the old behavior, use either `df[df.columns[i]] = newvals` or, if columns are non-unique, `df.isetitem(i, newvals)`\n",
    "  self.__results.iloc[:, i] = die.roll(rolls)\n",
    "ok\n",
    "\n",
    "----------------------------------------------------------------------\n",
    "Ran 8 tests in 0.030s\n",
    "\n",
    "OK"
   ]
  },
  {
   "cell_type": "markdown",
   "id": "7c44695d-d1b3-4edf-9f94-e64d7446f199",
   "metadata": {},
   "source": [
    "# Scenarios\n",
    "\n",
    " "
   ]
  },
  {
   "cell_type": "markdown",
   "id": "90b7abd8-f4a7-4d71-bc9a-746640516b98",
   "metadata": {},
   "source": [
    "## Scenario 1"
   ]
  },
  {
   "cell_type": "code",
   "execution_count": 3,
   "id": "815eae36-4357-442a-894e-d056ebb8f998",
   "metadata": {},
   "outputs": [],
   "source": [
    "import montecarlosimulator\n",
    "import matplotlib.pyplot as plt"
   ]
  },
  {
   "cell_type": "code",
   "execution_count": 4,
   "id": "211bf064",
   "metadata": {},
   "outputs": [
    {
     "name": "stdout",
     "output_type": "stream",
     "text": [
      "Jackpot frequency of five fair coins flipped: \n",
      "      0.072\n"
     ]
    }
   ],
   "source": [
    "#Game 1\n",
    "#Creating fair coin\n",
    "fair_coin = montecarlosimulator.Die([\"H\", \"T\"])\n",
    "\n",
    "#Creating a game with 5 fair coins and playing a game with 1000 rolls\n",
    "sc1_game1 = montecarlosimulator.Game([fair_coin, fair_coin, fair_coin, fair_coin, fair_coin])\n",
    "sc1_game1.play(1000)\n",
    "\n",
    "#Creating an analyzer object for the game\n",
    "sc1_analyzer1 = montecarlosimulator.Analyzer(sc1_game1)\n",
    "\n",
    "#Calculating the jackpot frequency\n",
    "sc1_freq_1 = sc1_analyzer1.jackpot() / 1000\n",
    "\n",
    "print(f\"Jackpot frequency of five fair coins flipped: \\n\\\n",
    "      {sc1_freq_1}\")"
   ]
  },
  {
   "cell_type": "code",
   "execution_count": 5,
   "id": "063d6090",
   "metadata": {
    "scrolled": true
   },
   "outputs": [
    {
     "name": "stdout",
     "output_type": "stream",
     "text": [
      "Jackpot frequency of two unfair coins & 3 fair coins flipped: \n",
      "      0.1\n"
     ]
    }
   ],
   "source": [
    "#Game 2\n",
    "#Creating an unfair coin by changing H's weight to 5.0\n",
    "unfair_coin = montecarlosimulator.Die([\"H\", \"T\"])\n",
    "unfair_coin.change_weight(\"H\", 5.0)\n",
    "\n",
    "#Creating a game with 2 unfair coins + 3 fair coins and playing a game with 1000 rolls\n",
    "sc1_game2 = montecarlosimulator.Game([unfair_coin, unfair_coin, fair_coin, fair_coin, fair_coin])\n",
    "sc1_game2.play(1000)\n",
    "\n",
    "#Creating an analyzer object for the game\n",
    "sc1_analyzer2 = montecarlosimulator.Analyzer(sc1_game2)\n",
    "\n",
    "#Calculating the jackpot frequency\n",
    "sc1_freq_2 = sc1_analyzer2.jackpot() / 1000\n",
    "\n",
    "print(f\"Jackpot frequency of two unfair coins & 3 fair coins flipped: \\n\\\n",
    "      {sc1_freq_2}\")"
   ]
  },
  {
   "cell_type": "code",
   "execution_count": 6,
   "id": "4fe3f6df",
   "metadata": {},
   "outputs": [
    {
     "data": {
      "image/png": "[encoded data removed]",
      "text/plain": [
       "<Figure size 640x480 with 1 Axes>"
      ]
     },
     "metadata": {},
     "output_type": "display_data"
    }
   ],
   "source": [
    "#Creating bar chart to compare jackpot frequencies\n",
    "plt.bar(['Game 1', 'Game 2'], [sc1_freq_1, sc1_freq_2])\n",
    "plt.title('Game Jackpot Frequencies')\n",
    "plt.xlabel('Games')\n",
    "plt.ylabel('Jackpot Frequency')\n",
    "plt.show()"
   ]
  },
  {
   "cell_type": "markdown",
   "id": "92793a09-0024-465d-b272-2ef8b9a6c21c",
   "metadata": {},
   "source": [
    "## Scenario 2"
   ]
  },
  {
   "cell_type": "code",
   "execution_count": 7,
   "id": "7218e98e-6ec0-4766-8793-5b386ce6ee24",
   "metadata": {},
   "outputs": [],
   "source": [
    "import montecarlosimulator\n",
    "import matplotlib.pyplot as plt"
   ]
  },
  {
   "cell_type": "code",
   "execution_count": 8,
   "id": "ed345bb3",
   "metadata": {},
   "outputs": [
    {
     "name": "stdout",
     "output_type": "stream",
     "text": [
      "Jackpot frequency of five fair dice rolled: \n",
      "      0.0005\n"
     ]
    }
   ],
   "source": [
    "#Game 1\n",
    "#Creating fair die\n",
    "fair_die = montecarlosimulator.Die([1, 2, 3, 4, 5, 6])\n",
    "\n",
    "#Creating a game with 5 fair dice and playing a game with 10,000 rolls\n",
    "sc2_game1 = montecarlosimulator.Game([fair_die, fair_die, fair_die, fair_die, fair_die])\n",
    "sc2_game1.play(10000)\n",
    "\n",
    "#Creating an analyzer object for the game\n",
    "sc2_analyzer1 = montecarlosimulator.Analyzer(sc2_game1)\n",
    "\n",
    "#Calculating the jackpot frequency\n",
    "sc2_freq1 = sc2_analyzer1.jackpot() / 10000\n",
    "\n",
    "print(f\"Jackpot frequency of five fair dice rolled: \\n\\\n",
    "      {sc2_freq1}\")"
   ]
  },
  {
   "cell_type": "code",
   "execution_count": 9,
   "id": "9ffbb64e",
   "metadata": {},
   "outputs": [
    {
     "data": {
      "image/png": "[encoded data removed]",
      "text/plain": [
       "<Figure size 640x480 with 1 Axes>"
      ]
     },
     "metadata": {},
     "output_type": "display_data"
    }
   ],
   "source": [
    "#Creating bar chart of 10 most frequent combinations in Game 1\n",
    "#Calculating combinations and saving top 10\n",
    "sc2_analyzer1.combo()\n",
    "sc2_game1_top_combos = sc2_analyzer1.combos\n",
    "sc2_game1_top_10 = sc2_game1_top_combos.sort_values(by='count', ascending=False,).head(10)\n",
    "\n",
    "#Plotting bar graph\n",
    "sc2_game1_top_10.plot(kind='bar', y='count')\n",
    "\n",
    "plt.title(\"Top 10 Combinations of Fair Dice Rolls\")\n",
    "plt.xlabel('Dice Rolls')\n",
    "plt.ylabel('# of Times Rolled')\n",
    "\n",
    "plt.show()"
   ]
  },
  {
   "cell_type": "code",
   "execution_count": 10,
   "id": "fd13617c",
   "metadata": {},
   "outputs": [
    {
     "name": "stdout",
     "output_type": "stream",
     "text": [
      "Jackpot frequency of 3 weighted dice and 2 fair dice rolled: \n",
      "      0.0007\n"
     ]
    }
   ],
   "source": [
    "#Game 2\n",
    "#Creating unfair dice \n",
    "unfair_die_type1 = montecarlosimulator.Die([1, 2, 3, 4, 5, 6])\n",
    "unfair_die_type2 = montecarlosimulator.Die([1, 2, 3, 4, 5, 6])\n",
    "\n",
    "unfair_die_type1.change_weight(6, 5)\n",
    "unfair_die_type2.change_weight(1, 5)\n",
    "\n",
    "#Creating a game with two tpye 1 unfair dice, one type 2 unfair die  and two fair dice. Playing 10,000 rolls\n",
    "sc2_game2 = montecarlosimulator.Game([unfair_die_type1, unfair_die_type1, unfair_die_type2, fair_die, fair_die])\n",
    "sc2_game2.play(10000)\n",
    "\n",
    "#Creating analyzer object for the game\n",
    "sc2_analyzer2 = montecarlosimulator.Analyzer(sc2_game2)\n",
    "\n",
    "#Calculating jackpot frequency\n",
    "sc2_freq2 = sc2_analyzer2.jackpot() / 10000\n",
    "\n",
    "print(f\"Jackpot frequency of 3 weighted dice and 2 fair dice rolled: \\n\\\n",
    "      {sc2_freq2}\")"
   ]
  },
  {
   "cell_type": "code",
   "execution_count": 11,
   "id": "b1f4257b",
   "metadata": {},
   "outputs": [
    {
     "data": {
      "image/png": "[encoded data removed]",
      "text/plain": [
       "<Figure size 640x480 with 1 Axes>"
      ]
     },
     "metadata": {},
     "output_type": "display_data"
    }
   ],
   "source": [
    "#Creating bar chart of 10 most frequent combinations in Game 2\n",
    "#Calculating combinations and saving top 10\n",
    "sc2_analyzer2.combo()\n",
    "sc2_game2_top_combos = sc2_analyzer2.combos\n",
    "sc2_game2_top_10 = sc2_game2_top_combos.sort_values(by='count', ascending=False,).head(10)\n",
    "\n",
    "#Plotting Bar Graph\n",
    "sc2_game2_top_10.plot(kind='bar', y='count')\n",
    "\n",
    "plt.title(\"Top 10 Combinations of Unfair and Fair Dice Rolled\")\n",
    "plt.xlabel('Dice Rolls')\n",
    "plt.ylabel('# of Times Rolled')\n",
    "\n",
    "plt.show()"
   ]
  },
  {
   "cell_type": "code",
   "execution_count": 12,
   "id": "6d504957",
   "metadata": {
    "scrolled": true
   },
   "outputs": [
    {
     "data": {
      "image/png": "[encoded data removed]",
      "text/plain": [
       "<Figure size 640x480 with 1 Axes>"
      ]
     },
     "metadata": {},
     "output_type": "display_data"
    }
   ],
   "source": [
    "#Creating bar chart to compare the games' jackpot frequencies\n",
    "plt.bar(['Game 1', 'Game 2'], [sc2_freq1, sc2_freq2])\n",
    "plt.title('Game Jackpot Frequencies')\n",
    "plt.xlabel('Games')\n",
    "plt.ylabel('Jackpot Frequency')\n",
    "plt.show()"
   ]
  },
  {
   "cell_type": "markdown",
   "id": "1b47f5b6-188d-4d24-9c2f-687b430e6624",
   "metadata": {},
   "source": [
    "## Scenario 3"
   ]
  },
  {
   "cell_type": "code",
   "execution_count": 13,
   "id": "ad6d2878-f832-4065-98a3-1ea78ff0a6d3",
   "metadata": {},
   "outputs": [],
   "source": [
    "import pandas as pd\n",
    "import montecarlosimulator"
   ]
  },
  {
   "cell_type": "code",
   "execution_count": 14,
   "id": "17ebfca1",
   "metadata": {},
   "outputs": [],
   "source": [
    "#Creating letter and letter weight lists\n",
    "letters = ['A', 'B', 'C', 'D', 'E', 'F', 'G', 'H', 'I', 'J', 'K', 'L', 'M',\n",
    "           'N', 'O', 'P', 'Q', 'R', 'S', 'T', 'U', 'V', 'W', 'X', 'Y', 'Z']\n",
    "frequencies = [8.4966, 2.072, 4.5388, 3.3844, 11.1607, 1.8121, 2.4705, 3.0034,\n",
    "               7.5448, 0.1965, 1.1016, 5.4893, 3.0129, 6.6544, 7.1635, 3.1671,\n",
    "               0.1962, 7.5809, 5.7351, 6.9509, 3.6308, 1.0074, 1.2899, 0.2902,\n",
    "               1.7779, 0.2722]\n",
    "\n",
    "#Create a dataframe to use for letter and weights\n",
    "letter_freq_df = pd.DataFrame({'letter': letters, 'frequency': frequencies})"
   ]
  },
  {
   "cell_type": "code",
   "execution_count": 15,
   "id": "9a33590f",
   "metadata": {},
   "outputs": [
    {
     "data": {
      "text/html": [
       "<div>\n",
       "<style scoped>\n",
       "    .dataframe tbody tr th:only-of-type {\n",
       "        vertical-align: middle;\n",
       "    }\n",
       "\n",
       "    .dataframe tbody tr th {\n",
       "        vertical-align: top;\n",
       "    }\n",
       "\n",
       "    .dataframe thead th {\n",
       "        text-align: right;\n",
       "    }\n",
       "</style>\n",
       "<table border=\"1\" class=\"dataframe\">\n",
       "  <thead>\n",
       "    <tr style=\"text-align: right;\">\n",
       "      <th></th>\n",
       "      <th></th>\n",
       "      <th></th>\n",
       "      <th></th>\n",
       "      <th></th>\n",
       "      <th>count</th>\n",
       "    </tr>\n",
       "    <tr>\n",
       "      <th>1</th>\n",
       "      <th>2</th>\n",
       "      <th>3</th>\n",
       "      <th>4</th>\n",
       "      <th>5</th>\n",
       "      <th></th>\n",
       "    </tr>\n",
       "  </thead>\n",
       "  <tbody>\n",
       "    <tr>\n",
       "      <th rowspan=\"5\" valign=\"top\">A</th>\n",
       "      <th rowspan=\"5\" valign=\"top\">A</th>\n",
       "      <th>C</th>\n",
       "      <th>A</th>\n",
       "      <th>Y</th>\n",
       "      <td>1</td>\n",
       "    </tr>\n",
       "    <tr>\n",
       "      <th>D</th>\n",
       "      <th>T</th>\n",
       "      <th>U</th>\n",
       "      <td>1</td>\n",
       "    </tr>\n",
       "    <tr>\n",
       "      <th>G</th>\n",
       "      <th>R</th>\n",
       "      <th>L</th>\n",
       "      <td>1</td>\n",
       "    </tr>\n",
       "    <tr>\n",
       "      <th>I</th>\n",
       "      <th>I</th>\n",
       "      <th>A</th>\n",
       "      <td>1</td>\n",
       "    </tr>\n",
       "    <tr>\n",
       "      <th>M</th>\n",
       "      <th>I</th>\n",
       "      <th>C</th>\n",
       "      <td>1</td>\n",
       "    </tr>\n",
       "    <tr>\n",
       "      <th>...</th>\n",
       "      <th>...</th>\n",
       "      <th>...</th>\n",
       "      <th>...</th>\n",
       "      <th>...</th>\n",
       "      <td>...</td>\n",
       "    </tr>\n",
       "    <tr>\n",
       "      <th rowspan=\"3\" valign=\"top\">Y</th>\n",
       "      <th>V</th>\n",
       "      <th>T</th>\n",
       "      <th>A</th>\n",
       "      <th>R</th>\n",
       "      <td>1</td>\n",
       "    </tr>\n",
       "    <tr>\n",
       "      <th>W</th>\n",
       "      <th>U</th>\n",
       "      <th>S</th>\n",
       "      <th>E</th>\n",
       "      <td>1</td>\n",
       "    </tr>\n",
       "    <tr>\n",
       "      <th>Y</th>\n",
       "      <th>F</th>\n",
       "      <th>T</th>\n",
       "      <th>R</th>\n",
       "      <td>1</td>\n",
       "    </tr>\n",
       "    <tr>\n",
       "      <th rowspan=\"2\" valign=\"top\">Z</th>\n",
       "      <th>S</th>\n",
       "      <th>O</th>\n",
       "      <th>N</th>\n",
       "      <th>E</th>\n",
       "      <td>1</td>\n",
       "    </tr>\n",
       "    <tr>\n",
       "      <th>V</th>\n",
       "      <th>F</th>\n",
       "      <th>I</th>\n",
       "      <th>C</th>\n",
       "      <td>1</td>\n",
       "    </tr>\n",
       "  </tbody>\n",
       "</table>\n",
       "<p>1000 rows × 1 columns</p>\n",
       "</div>"
      ],
      "text/plain": [
       "           count\n",
       "1 2 3 4 5       \n",
       "A A C A Y      1\n",
       "    D T U      1\n",
       "    G R L      1\n",
       "    I I A      1\n",
       "    M I C      1\n",
       "...          ...\n",
       "Y V T A R      1\n",
       "  W U S E      1\n",
       "  Y F T R      1\n",
       "Z S O N E      1\n",
       "  V F I C      1\n",
       "\n",
       "[1000 rows x 1 columns]"
      ]
     },
     "execution_count": 15,
     "metadata": {},
     "output_type": "execute_result"
    }
   ],
   "source": [
    "#Creating an array of letters and using it to create a Die object\n",
    "letter_array = letter_freq_df['letter'].values\n",
    "letter_die = montecarlosimulator.Die(letter_array)\n",
    "\n",
    "#Changing the weight of each letter to the appropriate weight\n",
    "for face in letter_array:\n",
    "    frequency = letter_freq_df.loc[letter_freq_df['letter'] == face, 'frequency'].values[0]\n",
    "    letter_die.change_weight(face, frequency)\n",
    "\n",
    "#Creating a game with 5 'letter die' and playing a game with 1000 rolls\n",
    "sc3_game = montecarlosimulator.Game([letter_die, letter_die, letter_die, letter_die, letter_die])\n",
    "sc3_game.play(1000)\n",
    "\n",
    "#Creating analyzer object for the game\n",
    "sc3_analyzer = montecarlosimulator.Analyzer(sc3_game)\n",
    "\n",
    "#Calculating the unique combinations and saving the analyzer attribute as it's own dataframe\n",
    "sc3_analyzer.combo()\n",
    "sc3_combos = sc3_analyzer.combos\n",
    "\n",
    "#Full Dataframe was reviewed to find english words\n",
    "sc3_combos"
   ]
  },
  {
   "cell_type": "code",
   "execution_count": 16,
   "id": "04d45d0b",
   "metadata": {},
   "outputs": [
    {
     "name": "stdout",
     "output_type": "stream",
     "text": [
      "English word frequency: \n",
      "      0.008\n"
     ]
    }
   ],
   "source": [
    "#I counted 8 english words present in the combinations\n",
    "\n",
    "english_words = 8\n",
    "\n",
    "eng_word_freq = english_words / 1000\n",
    "\n",
    "print(f\"English word frequency: \\n\\\n",
    "      {eng_word_freq}\")"
   ]
  },
  {
   "cell_type": "markdown",
   "id": "6ced706c-19e7-4e79-b171-bfb076f822b4",
   "metadata": {},
   "source": [
    "# Directory Listing\n",
    "\n"
   ]
  },
  {
   "cell_type": "code",
   "execution_count": 17,
   "id": "5dbd35c2-e479-4179-b792-997d4293ba96",
   "metadata": {},
   "outputs": [
    {
     "name": "stdout",
     "output_type": "stream",
     "text": [
      " Volume in drive D is New Volume\n",
      " Volume Serial Number is 1616-9B9B\n",
      "\n",
      " Directory of D:\\DS5100\\DS5100_Final_Project\n",
      "\n",
      "05/02/2023  09:09 PM    <DIR>          .\n",
      "05/02/2023  09:09 PM    <DIR>          ..\n",
      "04/27/2023  08:20 PM             3,238 .gitignore\n",
      "04/27/2023  08:20 PM             1,091 LICENSE\n",
      "05/02/2023  12:16 AM    <DIR>          montecarlosimulator\n",
      "05/02/2023  09:05 PM    <DIR>          montecarlosimulator.egg-info\n",
      "05/02/2023  09:09 PM           347,328 montecarlo_demo.ipynb\n",
      "05/02/2023  08:48 PM             9,963 README.md\n",
      "04/28/2023  11:30 PM               334 setup.py\n",
      "               5 File(s)        361,954 bytes\n",
      "               4 Dir(s)  1,386,121,506,816 bytes free\n"
     ]
    }
   ],
   "source": [
    "!dir"
   ]
  },
  {
   "cell_type": "markdown",
   "id": "c4df835c-3cd7-4c74-a4de-51638607680b",
   "metadata": {
    "tags": []
   },
   "source": [
    "# Installation Output Listing\n",
    "    \n",
    "A code block that executes the code to install your your package and outputs a successful installation."
   ]
  },
  {
   "cell_type": "code",
   "execution_count": 18,
   "id": "3609769a-c338-4746-8607-d124caf76ed8",
   "metadata": {},
   "outputs": [
    {
     "name": "stdout",
     "output_type": "stream",
     "text": [
      "Obtaining file:///D:/DS5100/DS5100_Final_Project\n",
      "  Preparing metadata (setup.py): started\n",
      "  Preparing metadata (setup.py): finished with status 'done'\n",
      "Installing collected packages: montecarlosimulator\n",
      "  Attempting uninstall: montecarlosimulator\n",
      "    Found existing installation: montecarlosimulator 1.0.0\n",
      "    Uninstalling montecarlosimulator-1.0.0:\n",
      "      Successfully uninstalled montecarlosimulator-1.0.0\n",
      "  Running setup.py develop for montecarlosimulator\n",
      "Successfully installed montecarlosimulator-1.0.0\n"
     ]
    }
   ],
   "source": [
    "#Install package from local files\n",
    "!pip install -e D:\\DS5100\\DS5100_Final_Project"
   ]
  },
  {
   "cell_type": "code",
   "execution_count": 19,
   "id": "17ececa3",
   "metadata": {},
   "outputs": [
    {
     "name": "stdout",
     "output_type": "stream",
     "text": [
      "Collecting git+https://github.com/BrianBlancato/DS5100_Final_Project.git\n",
      "  Cloning https://github.com/BrianBlancato/DS5100_Final_Project.git to c:\\users\\brian\\appdata\\local\\temp\\pip-req-build-b2532m_6\n",
      "  Resolved https://github.com/BrianBlancato/DS5100_Final_Project.git to commit ba974b0d9e9b4620d0bc316fc23bb8b2b56e4126\n",
      "  Preparing metadata (setup.py): started\n",
      "  Preparing metadata (setup.py): finished with status 'done'\n",
      "Building wheels for collected packages: montecarlosimulator\n",
      "  Building wheel for montecarlosimulator (setup.py): started\n",
      "  Building wheel for montecarlosimulator (setup.py): finished with status 'done'\n",
      "  Created wheel for montecarlosimulator: filename=montecarlosimulator-1.0.0-py3-none-any.whl size=7219 sha256=7cb934c1b31b18caf17cea2501fb61610ef9c3d8e6c39af3de6c7642a2936465\n",
      "  Stored in directory: C:\\Users\\brian\\AppData\\Local\\Temp\\pip-ephem-wheel-cache-99kutbaw\\wheels\\9f\\60\\bc\\543bf247a5f2df79d1b0603a953a3fcfed40886da3dee6ffb4\n",
      "Successfully built montecarlosimulator\n",
      "Installing collected packages: montecarlosimulator\n",
      "  Attempting uninstall: montecarlosimulator\n",
      "    Found existing installation: montecarlosimulator 1.0.0\n",
      "    Uninstalling montecarlosimulator-1.0.0:\n",
      "      Successfully uninstalled montecarlosimulator-1.0.0\n",
      "Successfully installed montecarlosimulator-1.0.0\n"
     ]
    },
    {
     "name": "stderr",
     "output_type": "stream",
     "text": [
      "  Running command git clone --filter=blob:none --quiet https://github.com/BrianBlancato/DS5100_Final_Project.git 'C:\\Users\\brian\\AppData\\Local\\Temp\\pip-req-build-b2532m_6'\n"
     ]
    }
   ],
   "source": [
    "#Install package from Github\n",
    "!pip install \"git+https://github.com/BrianBlancato/DS5100_Final_Project.git\""
   ]
  },
  {
   "cell_type": "code",
   "execution_count": null,
   "id": "d552aed2",
   "metadata": {},
   "outputs": [],
   "source": []
  }
 ],
 "metadata": {
  "kernelspec": {
   "display_name": "Python 3 (ipykernel)",
   "language": "python",
   "name": "python3"
  },
  "language_info": {
   "codemirror_mode": {
    "name": "ipython",
    "version": 3
   },
   "file_extension": ".py",
   "mimetype": "text/x-python",
   "name": "python",
   "nbconvert_exporter": "python",
   "pygments_lexer": "ipython3",
   "version": "3.9.13"
  },
  "widgets": {
   "application/vnd.jupyter.widget-state+json": {
    "state": {},
    "version_major": 2,
    "version_minor": 0
   }
  }
 },
 "nbformat": 4,
 "nbformat_minor": 5
}
