{
 "cells": [
  {
   "cell_type": "markdown",
   "id": "3f95b048",
   "metadata": {},
   "source": [
    "# Metadata\n",
    "\n",
    "Title: Final Project Report  \n",
    "Class: DS 5100  \n",
    "Date:  \n",
    "Student Name:  \n",
    "Student Net ID:  \n",
    "This URL:  \n",
    "GitHub Repo URL:\n"
   ]
  },
  {
   "cell_type": "markdown",
   "id": "4680a08d",
   "metadata": {},
   "source": [
    "# The Monte Carlo Module"
   ]
  },
  {
   "cell_type": "code",
   "execution_count": 1,
   "id": "e6da528d",
   "metadata": {},
   "outputs": [],
   "source": [
    "# A code block with your classes."
   ]
  },
  {
   "cell_type": "markdown",
   "id": "5a0791cb",
   "metadata": {},
   "source": [
    "# Test Module"
   ]
  },
  {
   "cell_type": "code",
   "execution_count": 2,
   "id": "01a699bf",
   "metadata": {},
   "outputs": [],
   "source": [
    "# A code block with your test code."
   ]
  },
  {
   "cell_type": "markdown",
   "id": "057d3c9c",
   "metadata": {},
   "source": [
    "# Test Results"
   ]
  },
  {
   "cell_type": "code",
   "execution_count": 3,
   "id": "984ded7f",
   "metadata": {},
   "outputs": [],
   "source": [
    "# A text block with the output of a successful test."
   ]
  },
  {
   "cell_type": "markdown",
   "id": "fb672b0a",
   "metadata": {},
   "source": [
    "# Scenarios  \n",
    "  \n",
    " "
   ]
  }
 ],
 "metadata": {
  "kernelspec": {
   "display_name": "Python 3 (ipykernel)",
   "language": "python",
   "name": "python3"
  },
  "language_info": {
   "codemirror_mode": {
    "name": "ipython",
    "version": 3
   },
   "file_extension": ".py",
   "mimetype": "text/x-python",
   "name": "python",
   "nbconvert_exporter": "python",
   "pygments_lexer": "ipython3",
   "version": "3.9.13"
  }
 },
 "nbformat": 4,
 "nbformat_minor": 5
}
